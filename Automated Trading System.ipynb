{
 "cells": [
  {
   "cell_type": "code",
   "execution_count": 2,
   "metadata": {},
   "outputs": [],
   "source": [
    "import fxcmpy\n",
    "import zmq\n",
    "import time\n",
    "import pickle\n",
    "import numpy as np\n",
    "import pandas as pd\n",
    "import datetime as dt"
   ]
  },
  {
   "cell_type": "code",
   "execution_count": 3,
   "metadata": {},
   "outputs": [],
   "source": [
    "api = fxcmpy.fxcmpy(access_token='83eaf60d3c3c50e51a518aa92eb9a2047b093ace', log_level='error')"
   ]
  },
  {
   "cell_type": "code",
   "execution_count": 4,
   "metadata": {},
   "outputs": [],
   "source": [
    "sel = ['tradeId', 'amountK', 'currency', 'grossPL', 'isBuy']\n",
    "log_file = 'automated_strategy.log'\n",
    "algorithm = pickle.load(open('algorithm.pkl', 'rb'))"
   ]
  },
  {
   "cell_type": "code",
   "execution_count": null,
   "metadata": {},
   "outputs": [],
   "source": [
    "# Set up ZeroMQ publisher on localhost:5555\n",
    "context = zmq.Context()\n",
    "socket = context.socket(zmq.PUB)\n",
    "socket.bind('tcp://127.0.0.1:5555')"
   ]
  },
  {
   "cell_type": "code",
   "execution_count": 6,
   "metadata": {},
   "outputs": [],
   "source": [
    "def logger_monitor(message, time=True, sep=True):\n",
    "    with open(log_file, 'a') as f:\n",
    "        t = str(dt.datetime.now())\n",
    "        msg = ''\n",
    "        if time:\n",
    "            msg+= '\\n' + t + '\\n'\n",
    "        if sep:\n",
    "            msg += 66 * '=' + '\\n'\n",
    "        msg += message + '\\n\\n'\n",
    "        socket.send_string(msg)\n",
    "        f.write(msg)"
   ]
  },
  {
   "cell_type": "code",
   "execution_count": 7,
   "metadata": {},
   "outputs": [],
   "source": [
    "def report_positions(pos):\n",
    "    out = '\\n\\n' + 50 * '=' + '\\n'\n",
    "    out += 'Going {}.\\n'.format(pos) + '\\n'\n",
    "    time.sleep(2)\n",
    "    out += str(api.get_open_positions()[sel]) + '\\n'\n",
    "    out += 50 * '=' + '\\n'\n",
    "    logger_monitor(out)\n",
    "    print(out)"
   ]
  },
  {
   "cell_type": "code",
   "execution_count": 8,
   "metadata": {},
   "outputs": [],
   "source": [
    "def automated_strategy(data, dataframe):\n",
    "    ''' Callback function embodying the trading logic.\n",
    "    '''\n",
    "    global min_bars, position, df\n",
    "    # resampling of the tick data\n",
    "    df = dataframe.resample(bar, label='right').last().ffill()\n",
    "\n",
    "    if len(df) > min_bars:\n",
    "        min_bars = len(df)\n",
    "        logger_monitor('NUMBER OF BARS: ' + str(min_bars))\n",
    "        # data processing and feature preparation\n",
    "        df['Mid'] = df[['Bid', 'Ask']].mean(axis=1)\n",
    "        df['Returns'] = np.log(df['Mid'] / df['Mid'].shift(1))\n",
    "        df['Direction'] = np.where(df['Returns'] > 0, 1, -1)\n",
    "        # picks relevant points\n",
    "        features = df['Direction'].iloc[-(lags + 1):-1]\n",
    "        # necessary reshaping\n",
    "        features = features.values.reshape(1, -1)\n",
    "        # generates the signal (+1 or -1)\n",
    "        signal = algorithm.predict(features)[0]\n",
    "\n",
    "        # logs and sends major financial information\n",
    "        logger_monitor('MOST RECENT DATA\\n' +\n",
    "                       str(df[['Mid', 'Returns', 'Direction']].tail()),\n",
    "                       False)\n",
    "        logger_monitor('features: ' + str(features) + '\\n' +\n",
    "                       'position: ' + str(position) + '\\n' +\n",
    "                       'signal:   ' + str(signal), False)\n",
    "\n",
    "        # trading logic\n",
    "        if position in [0, -1] and signal == 1:  # going long?\n",
    "            api.create_market_buy_order(\n",
    "                symbol, size - position * size)  # places a buy order\n",
    "            position = 1  # changes position to long\n",
    "            report_positions('LONG')\n",
    "\n",
    "        elif position in [0, 1] and signal == -1:  # going short?\n",
    "            api.create_market_sell_order(\n",
    "                symbol, size + position * size)  # places a sell order\n",
    "            position = -1  # changes position to short\n",
    "            report_positions('SHORT')\n",
    "        else:  # no trade\n",
    "            logger_monitor('no trade placed')\n",
    "\n",
    "        logger_monitor('****END OF CYCLE***\\n\\n', False, False)\n",
    "\n",
    "    if len(dataframe) > 350:  # stopping condition\n",
    "        api.unsubscribe_market_data('EUR/USD')  # unsubscribes from data stream\n",
    "        report_positions('CLOSE OUT')\n",
    "        api.close_all()  # closes all open positions\n",
    "        logger_monitor('***CLOSING OUT ALL POSITIONS***')"
   ]
  },
  {
   "cell_type": "code",
   "execution_count": 9,
   "metadata": {},
   "outputs": [],
   "source": [
    "if __name__ == '__main__':\n",
    "    symbol = 'EUR/USD'  # symbol to be traded\n",
    "    bar = '15s'  # bar length; adjust for testing and deployment\n",
    "    size = 100  # position size in thousand currency units\n",
    "    position = 0  # initial position\n",
    "    lags = 5  # number of lags for features data\n",
    "    min_bars = lags + 1  # minimum length for resampled DataFrame\n",
    "    df = pd.DataFrame()\n",
    "    # adjust configuration file location\n",
    "    api = fxcmpy.fxcmpy(access_token='83eaf60d3c3c50e51a518aa92eb9a2047b093ace', log_level='error')\n",
    "    # the main asynchronous loop using the callback function\n",
    "    api.subscribe_market_data(symbol, (automated_strategy,))"
   ]
  },
  {
   "cell_type": "code",
   "execution_count": null,
   "metadata": {},
   "outputs": [],
   "source": [
    "\n",
    "# sets up the socket communication via ZeroMQ (here: \"subscriber\")\n",
    "context = zmq.Context()\n",
    "socket = context.socket(zmq.SUB)\n",
    "\n",
    "# adjust the IP address to reflect the remote location if necessary\n",
    "socket.connect('tcp://127.0.0.1:5555')\n",
    "\n",
    "# configures the socket to retrieve every message\n",
    "socket.setsockopt_string(zmq.SUBSCRIBE, '')\n",
    "\n",
    "while True:\n",
    "    msg = socket.recv_string()\n",
    "    print(msg)"
   ]
  },
  {
   "cell_type": "code",
   "execution_count": null,
   "metadata": {},
   "outputs": [],
   "source": []
  }
 ],
 "metadata": {
  "kernelspec": {
   "display_name": "Python 3",
   "language": "python",
   "name": "python3"
  },
  "language_info": {
   "codemirror_mode": {
    "name": "ipython",
    "version": 3
   },
   "file_extension": ".py",
   "mimetype": "text/x-python",
   "name": "python",
   "nbconvert_exporter": "python",
   "pygments_lexer": "ipython3",
   "version": "3.7.3"
  }
 },
 "nbformat": 4,
 "nbformat_minor": 2
}
