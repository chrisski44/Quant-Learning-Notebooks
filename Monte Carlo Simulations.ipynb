{
 "cells": [
  {
   "cell_type": "code",
   "execution_count": 3,
   "metadata": {},
   "outputs": [],
   "source": [
    "import numpy as np\n",
    "import math\n",
    "import pandas as pd\n",
    "import numpy.random as npr\n",
    "from matplotlib import pyplot as plt"
   ]
  },
  {
   "cell_type": "code",
   "execution_count": 5,
   "metadata": {},
   "outputs": [],
   "source": [
    "S0 = 100\n",
    "r = 0.05\n",
    "sigma = 0.25\n",
    "T = 1.0\n",
    "I = 50000\n",
    "M = 50"
   ]
  },
  {
   "cell_type": "code",
   "execution_count": 4,
   "metadata": {},
   "outputs": [],
   "source": [
    "def gen_sn(M, I, anti_paths=True, mo_match=True):\n",
    "    if anti_paths is True:\n",
    "        sn = npr.standard_normal((M+1, int(I/2)))\n",
    "        sn = np.concatenate((sn, -sn), axis=1)\n",
    "    else:\n",
    "        sn = npr.standard_normal((M+1, I))\n",
    "    if mo_match is True:\n",
    "        sn = (sn - sn.mean()) / sn.std()\n",
    "    return sn"
   ]
  },
  {
   "cell_type": "code",
   "execution_count": 12,
   "metadata": {},
   "outputs": [],
   "source": [
    "def gbm_mcs_dyna(K, option='call'):\n",
    "    dt = T/ M\n",
    "    S = np.zeros((M+1, I))\n",
    "    S[0] = S0\n",
    "    sn = gen_sn(M, I)\n",
    "    for t in range(1, M+1):\n",
    "        S[t] = S[t-1] * np.exp((r - 0.5 * sigma ** 2) * dt + sigma * math.sqrt(dt) * sn[t])\n",
    "    if option == 'call':\n",
    "        hT = np.maximum(S[-1] - K, 0)\n",
    "    elif option == 'put':\n",
    "        hT = np.maximum(K-S[-1], 0)\n",
    "    else:\n",
    "        raise ValueError(\"Must enter call or put as option type\")\n",
    "        \n",
    "    C0 = math.exp(-r * T) * np.mean(hT)\n",
    "    return C0"
   ]
  },
  {
   "cell_type": "code",
   "execution_count": 8,
   "metadata": {},
   "outputs": [
    {
     "data": {
      "text/plain": [
       "8.024727933590523"
      ]
     },
     "execution_count": 8,
     "metadata": {},
     "output_type": "execute_result"
    }
   ],
   "source": [
    "gbm_mcs_dyna(K=110., option='call')"
   ]
  },
  {
   "cell_type": "code",
   "execution_count": 9,
   "metadata": {},
   "outputs": [
    {
     "data": {
      "text/plain": [
       "12.605309142719266"
      ]
     },
     "execution_count": 9,
     "metadata": {},
     "output_type": "execute_result"
    }
   ],
   "source": [
    "gbm_mcs_dyna(K= 110., option='put')"
   ]
  },
  {
   "cell_type": "code",
   "execution_count": 13,
   "metadata": {},
   "outputs": [
    {
     "ename": "ValueError",
     "evalue": "Must enter call or put as option type",
     "output_type": "error",
     "traceback": [
      "\u001b[1;31m---------------------------------------------------------------------------\u001b[0m",
      "\u001b[1;31mValueError\u001b[0m                                Traceback (most recent call last)",
      "\u001b[1;32m<ipython-input-13-ac82c6320913>\u001b[0m in \u001b[0;36m<module>\u001b[1;34m\u001b[0m\n\u001b[1;32m----> 1\u001b[1;33m \u001b[0mgbm_mcs_dyna\u001b[0m\u001b[1;33m(\u001b[0m\u001b[0mK\u001b[0m\u001b[1;33m=\u001b[0m \u001b[1;36m110.\u001b[0m\u001b[1;33m,\u001b[0m \u001b[0moption\u001b[0m\u001b[1;33m=\u001b[0m\u001b[1;34m'fake_value'\u001b[0m\u001b[1;33m)\u001b[0m\u001b[1;33m\u001b[0m\u001b[1;33m\u001b[0m\u001b[0m\n\u001b[0m",
      "\u001b[1;32m<ipython-input-12-319836a769bb>\u001b[0m in \u001b[0;36mgbm_mcs_dyna\u001b[1;34m(K, option)\u001b[0m\n\u001b[0;32m     11\u001b[0m         \u001b[0mhT\u001b[0m \u001b[1;33m=\u001b[0m \u001b[0mnp\u001b[0m\u001b[1;33m.\u001b[0m\u001b[0mmaximum\u001b[0m\u001b[1;33m(\u001b[0m\u001b[0mK\u001b[0m\u001b[1;33m-\u001b[0m\u001b[0mS\u001b[0m\u001b[1;33m[\u001b[0m\u001b[1;33m-\u001b[0m\u001b[1;36m1\u001b[0m\u001b[1;33m]\u001b[0m\u001b[1;33m,\u001b[0m \u001b[1;36m0\u001b[0m\u001b[1;33m)\u001b[0m\u001b[1;33m\u001b[0m\u001b[1;33m\u001b[0m\u001b[0m\n\u001b[0;32m     12\u001b[0m     \u001b[1;32melse\u001b[0m\u001b[1;33m:\u001b[0m\u001b[1;33m\u001b[0m\u001b[1;33m\u001b[0m\u001b[0m\n\u001b[1;32m---> 13\u001b[1;33m         \u001b[1;32mraise\u001b[0m \u001b[0mValueError\u001b[0m\u001b[1;33m(\u001b[0m\u001b[1;34m\"Must enter call or put as option type\"\u001b[0m\u001b[1;33m)\u001b[0m\u001b[1;33m\u001b[0m\u001b[1;33m\u001b[0m\u001b[0m\n\u001b[0m\u001b[0;32m     14\u001b[0m \u001b[1;33m\u001b[0m\u001b[0m\n\u001b[0;32m     15\u001b[0m     \u001b[0mC0\u001b[0m \u001b[1;33m=\u001b[0m \u001b[0mmath\u001b[0m\u001b[1;33m.\u001b[0m\u001b[0mexp\u001b[0m\u001b[1;33m(\u001b[0m\u001b[1;33m-\u001b[0m\u001b[0mr\u001b[0m \u001b[1;33m*\u001b[0m \u001b[0mT\u001b[0m\u001b[1;33m)\u001b[0m \u001b[1;33m*\u001b[0m \u001b[0mnp\u001b[0m\u001b[1;33m.\u001b[0m\u001b[0mmean\u001b[0m\u001b[1;33m(\u001b[0m\u001b[0mhT\u001b[0m\u001b[1;33m)\u001b[0m\u001b[1;33m\u001b[0m\u001b[1;33m\u001b[0m\u001b[0m\n",
      "\u001b[1;31mValueError\u001b[0m: Must enter call or put as option type"
     ]
    }
   ],
   "source": [
    "gbm_mcs_dyna(K= 110., option='fake_value')"
   ]
  },
  {
   "cell_type": "code",
   "execution_count": 21,
   "metadata": {},
   "outputs": [],
   "source": [
    "def gbm_mcs_american(K, option='call'):\n",
    "    # Implements Least Squares Monte Carlo algorithm for American call and put options\n",
    "    dt = T/ M\n",
    "    df = math.exp(-r * dt)\n",
    "    S = np.zeros((M+1, I))\n",
    "    S[0] = 50\n",
    "    sn = gen_sn(M,I)\n",
    "    for t in range(1, M+1):\n",
    "        S[t] = S[t-1] * np.exp((r - 0.5 * sigma ** 2) * dt + sigma * math.sqrt(dt) * sn[t])\n",
    "    if option == 'call':\n",
    "        h = np.maximum(S-K, 0)\n",
    "    elif option == 'put':\n",
    "        h = np.maximum(K-S, 0)\n",
    "    else:\n",
    "        raise ValueError(\"Must be put or call\")\n",
    "    V = np.copy(h)\n",
    "    for t in range(M-1, 0, -1):\n",
    "        reg = np.polyfit(S[t], V[t+1] * df, 7)\n",
    "        C = np.polyval(reg, S[t])\n",
    "        V[t] = np.where(C > h[t], V[t+1] * df, h[t])\n",
    "    \n",
    "    C0 = df * np.mean(V[1])\n",
    "    return C0"
   ]
  },
  {
   "cell_type": "code",
   "execution_count": 22,
   "metadata": {},
   "outputs": [
    {
     "data": {
      "text/plain": [
       "0.006676067550359049"
      ]
     },
     "execution_count": 22,
     "metadata": {},
     "output_type": "execute_result"
    }
   ],
   "source": [
    "gbm_mcs_american(110.)q"
   ]
  },
  {
   "cell_type": "code",
   "execution_count": 24,
   "metadata": {},
   "outputs": [],
   "source": [
    "def black_scholes_call_value(S0, K, T, r, sigma):\n",
    "    from math import log, sqrt, exp\n",
    "    from scipy import stats\n",
    "    # European call option in Black Scholes model\n",
    "    S0 = float(S0)\n",
    "    d1 = (log(S0/K) + (r + 0.5 * sigma ** 2) * T) / (sigma * sqrt(T))\n",
    "    d2 = (log(S0/K) + (r - 0.5 * sigma ** 2) * T) / (sigma * sqrt(T))\n",
    "    value = (S0 * stats.norm.cdf(d1, 0.0, 1.0) - K * exp(-r * T) * stats.norm.cdf(d2, 0.0, 1.0))\n",
    "    return value"
   ]
  },
  {
   "cell_type": "code",
   "execution_count": 26,
   "metadata": {},
   "outputs": [],
   "source": [
    "def calculate_vega(S0, K, T, r, sigma):\n",
    "    from math import log, sqrt\n",
    "    from scipy import stats \n",
    "    S0 = float(S0)\n",
    "    d1 = (log(S0/K) + (r + 0.5 * sigma ** 2) * T) / (sigma * sqrt(T))\n",
    "    vega = S0 * stats.norm.pdf(d1, 0.0, 1.0) * sqrt(T)\n",
    "    return vega"
   ]
  },
  {
   "cell_type": "code",
   "execution_count": 27,
   "metadata": {},
   "outputs": [],
   "source": [
    "def black_scholes_implied_volatility(S0, K, T, r, C0, sigma_est, it=100):\n",
    "    for i in range(it):\n",
    "        sigma_est -= ((black_scholes_call_value(S0, K, T, r, sigma_est) - C0) / calculate_vega(S0, K, T ,r ,sigma_est))\n",
    "    return sigma_est"
   ]
  },
  {
   "cell_type": "code",
   "execution_count": 29,
   "metadata": {},
   "outputs": [
    {
     "name": "stderr",
     "output_type": "stream",
     "text": [
      "C:\\ProgramData\\Anaconda3\\lib\\site-packages\\ipykernel_launcher.py:3: RuntimeWarning: divide by zero encountered in double_scalars\n",
      "  This is separate from the ipykernel package so we can avoid doing imports until\n",
      "C:\\ProgramData\\Anaconda3\\lib\\site-packages\\ipykernel_launcher.py:6: RuntimeWarning: invalid value encountered in double_scalars\n",
      "  \n",
      "C:\\ProgramData\\Anaconda3\\lib\\site-packages\\ipykernel_launcher.py:7: RuntimeWarning: invalid value encountered in double_scalars\n",
      "  import sys\n",
      "C:\\ProgramData\\Anaconda3\\lib\\site-packages\\ipykernel_launcher.py:5: RuntimeWarning: invalid value encountered in double_scalars\n",
      "  \"\"\"\n"
     ]
    },
    {
     "data": {
      "text/plain": [
       "nan"
      ]
     },
     "execution_count": 29,
     "metadata": {},
     "output_type": "execute_result"
    }
   ],
   "source": [
    "black_scholes_implied_volatility(50, 110, 10, 0.5, 150, 300)"
   ]
  },
  {
   "cell_type": "code",
   "execution_count": 31,
   "metadata": {},
   "outputs": [],
   "source": [
    "# Normal log returns: Log returns log(St/Ss) = log St - log Ss between two times are normally distributed \n",
    "# at any time t > 0, the values of St are log nomrally distributed\n",
    "import math\n",
    "import numpy as np\n",
    "import scipy.stats as scs\n",
    "import statsmodels.api as sm"
   ]
  },
  {
   "cell_type": "code",
   "execution_count": 32,
   "metadata": {},
   "outputs": [],
   "source": [
    "def gen_paths(S0, r, sigma, T, M, I):\n",
    "    # Generate Monte carlo paths for geometric Brownian motion\n",
    "    dt = T/ M\n",
    "    paths = np.zeros((M+1, I))\n",
    "    paths[0] = S0\n",
    "    for t in range(1, M+1):\n",
    "        rand = np.random.standard_normal(I)\n",
    "        rand = (rand - rand.mean()) / rand.std()\n",
    "        paths[t] = paths[t-1] * np.exp((r - 0.5 * sigma ** 2) * dt + sigma * math.sqrt(dt) * rand)\n",
    "    return paths"
   ]
  },
  {
   "cell_type": "code",
   "execution_count": 33,
   "metadata": {},
   "outputs": [],
   "source": [
    "S0 = 100\n",
    "r = 0.05\n",
    "sigma = 0.2\n",
    "T = 1.0\n",
    "M = 50\n",
    "I = 250000\n",
    "np.random.seed(1000)\n",
    "paths = gen_paths(S0, r, sigma, T, M, I)"
   ]
  },
  {
   "cell_type": "code",
   "execution_count": 36,
   "metadata": {},
   "outputs": [
    {
     "data": {
      "text/plain": [
       "105.12710963760242"
      ]
     },
     "execution_count": 36,
     "metadata": {},
     "output_type": "execute_result"
    }
   ],
   "source": [
    "S0 * math.exp(r*T)\n",
    "# Expected value"
   ]
  },
  {
   "cell_type": "code",
   "execution_count": 35,
   "metadata": {},
   "outputs": [
    {
     "data": {
      "text/plain": [
       "105.12645392478755"
      ]
     },
     "execution_count": 35,
     "metadata": {},
     "output_type": "execute_result"
    }
   ],
   "source": [
    "paths[-1].mean() \n",
    "# Average simulate value"
   ]
  },
  {
   "cell_type": "code",
   "execution_count": 37,
   "metadata": {},
   "outputs": [
    {
     "data": {
      "text/plain": [
       "array([100.    ,  97.821 ,  98.5573, 106.1546, 105.899 ,  99.8363,\n",
       "       100.0145, 102.6589, 105.6643, 107.1107, 108.7943, 108.2449,\n",
       "       106.4105, 101.0575, 102.0197, 102.6052, 109.6419, 109.5725,\n",
       "       112.9766, 113.0225, 112.5476, 114.5585, 109.942 , 112.6271,\n",
       "       112.7502, 116.3453, 115.0443, 113.9586, 115.8831, 117.3705,\n",
       "       117.9185, 110.5539, 109.9687, 104.9957, 108.0679, 105.7822,\n",
       "       105.1585, 104.3304, 108.4387, 105.5963, 108.866 , 108.3284,\n",
       "       107.0077, 106.0034, 104.3964, 101.0637,  98.3776,  97.135 ,\n",
       "        95.4254,  96.4271,  96.3386])"
      ]
     },
     "execution_count": 37,
     "metadata": {},
     "output_type": "execute_result"
    }
   ],
   "source": [
    "paths[:,0].round(4)"
   ]
  },
  {
   "cell_type": "code",
   "execution_count": 38,
   "metadata": {},
   "outputs": [],
   "source": [
    "log_returns = np.log(paths[1:]/ paths[:-1])"
   ]
  },
  {
   "cell_type": "code",
   "execution_count": 39,
   "metadata": {},
   "outputs": [
    {
     "data": {
      "text/plain": [
       "array([-0.022 ,  0.0075,  0.0743, -0.0024, -0.059 ,  0.0018,  0.0261,\n",
       "        0.0289,  0.0136,  0.0156, -0.0051, -0.0171, -0.0516,  0.0095,\n",
       "        0.0057,  0.0663, -0.0006,  0.0306,  0.0004, -0.0042,  0.0177,\n",
       "       -0.0411,  0.0241,  0.0011,  0.0314, -0.0112, -0.0095,  0.0167,\n",
       "        0.0128,  0.0047, -0.0645, -0.0053, -0.0463,  0.0288, -0.0214,\n",
       "       -0.0059, -0.0079,  0.0386, -0.0266,  0.0305, -0.0049, -0.0123,\n",
       "       -0.0094, -0.0153, -0.0324, -0.0269, -0.0127, -0.0178,  0.0104,\n",
       "       -0.0009])"
      ]
     },
     "execution_count": 39,
     "metadata": {},
     "output_type": "execute_result"
    }
   ],
   "source": [
    "log_returns[:,0].round(4)"
   ]
  },
  {
   "cell_type": "code",
   "execution_count": 40,
   "metadata": {},
   "outputs": [],
   "source": [
    "import pandas as pd"
   ]
  },
  {
   "cell_type": "code",
   "execution_count": 41,
   "metadata": {},
   "outputs": [],
   "source": [
    "raw = pd.read_csv('data/tr_eikon_eod_data.csv', index_col = 0, parse_dates=True).dropna()"
   ]
  },
  {
   "cell_type": "code",
   "execution_count": 42,
   "metadata": {},
   "outputs": [
    {
     "data": {
      "text/html": [
       "<div>\n",
       "<style scoped>\n",
       "    .dataframe tbody tr th:only-of-type {\n",
       "        vertical-align: middle;\n",
       "    }\n",
       "\n",
       "    .dataframe tbody tr th {\n",
       "        vertical-align: top;\n",
       "    }\n",
       "\n",
       "    .dataframe thead th {\n",
       "        text-align: right;\n",
       "    }\n",
       "</style>\n",
       "<table border=\"1\" class=\"dataframe\">\n",
       "  <thead>\n",
       "    <tr style=\"text-align: right;\">\n",
       "      <th></th>\n",
       "      <th>AAPL.O</th>\n",
       "      <th>MSFT.O</th>\n",
       "      <th>INTC.O</th>\n",
       "      <th>AMZN.O</th>\n",
       "      <th>GS.N</th>\n",
       "      <th>SPY</th>\n",
       "      <th>.SPX</th>\n",
       "      <th>.VIX</th>\n",
       "      <th>EUR=</th>\n",
       "      <th>XAU=</th>\n",
       "      <th>GDX</th>\n",
       "      <th>GLD</th>\n",
       "    </tr>\n",
       "    <tr>\n",
       "      <th>Date</th>\n",
       "      <th></th>\n",
       "      <th></th>\n",
       "      <th></th>\n",
       "      <th></th>\n",
       "      <th></th>\n",
       "      <th></th>\n",
       "      <th></th>\n",
       "      <th></th>\n",
       "      <th></th>\n",
       "      <th></th>\n",
       "      <th></th>\n",
       "      <th></th>\n",
       "    </tr>\n",
       "  </thead>\n",
       "  <tbody>\n",
       "    <tr>\n",
       "      <th>2010-01-04</th>\n",
       "      <td>30.572827</td>\n",
       "      <td>30.950</td>\n",
       "      <td>20.88</td>\n",
       "      <td>133.90</td>\n",
       "      <td>173.08</td>\n",
       "      <td>113.33</td>\n",
       "      <td>1132.99</td>\n",
       "      <td>20.04</td>\n",
       "      <td>1.4411</td>\n",
       "      <td>1120.00</td>\n",
       "      <td>47.71</td>\n",
       "      <td>109.80</td>\n",
       "    </tr>\n",
       "    <tr>\n",
       "      <th>2010-01-05</th>\n",
       "      <td>30.625684</td>\n",
       "      <td>30.960</td>\n",
       "      <td>20.87</td>\n",
       "      <td>134.69</td>\n",
       "      <td>176.14</td>\n",
       "      <td>113.63</td>\n",
       "      <td>1136.52</td>\n",
       "      <td>19.35</td>\n",
       "      <td>1.4368</td>\n",
       "      <td>1118.65</td>\n",
       "      <td>48.17</td>\n",
       "      <td>109.70</td>\n",
       "    </tr>\n",
       "    <tr>\n",
       "      <th>2010-01-06</th>\n",
       "      <td>30.138541</td>\n",
       "      <td>30.770</td>\n",
       "      <td>20.80</td>\n",
       "      <td>132.25</td>\n",
       "      <td>174.26</td>\n",
       "      <td>113.71</td>\n",
       "      <td>1137.14</td>\n",
       "      <td>19.16</td>\n",
       "      <td>1.4412</td>\n",
       "      <td>1138.50</td>\n",
       "      <td>49.34</td>\n",
       "      <td>111.51</td>\n",
       "    </tr>\n",
       "    <tr>\n",
       "      <th>2010-01-07</th>\n",
       "      <td>30.082827</td>\n",
       "      <td>30.452</td>\n",
       "      <td>20.60</td>\n",
       "      <td>130.00</td>\n",
       "      <td>177.67</td>\n",
       "      <td>114.19</td>\n",
       "      <td>1141.69</td>\n",
       "      <td>19.06</td>\n",
       "      <td>1.4318</td>\n",
       "      <td>1131.90</td>\n",
       "      <td>49.10</td>\n",
       "      <td>110.82</td>\n",
       "    </tr>\n",
       "    <tr>\n",
       "      <th>2010-01-08</th>\n",
       "      <td>30.282827</td>\n",
       "      <td>30.660</td>\n",
       "      <td>20.83</td>\n",
       "      <td>133.52</td>\n",
       "      <td>174.31</td>\n",
       "      <td>114.57</td>\n",
       "      <td>1144.98</td>\n",
       "      <td>18.13</td>\n",
       "      <td>1.4412</td>\n",
       "      <td>1136.10</td>\n",
       "      <td>49.84</td>\n",
       "      <td>111.37</td>\n",
       "    </tr>\n",
       "  </tbody>\n",
       "</table>\n",
       "</div>"
      ],
      "text/plain": [
       "               AAPL.O  MSFT.O  INTC.O  AMZN.O    GS.N     SPY     .SPX   .VIX  \\\n",
       "Date                                                                            \n",
       "2010-01-04  30.572827  30.950   20.88  133.90  173.08  113.33  1132.99  20.04   \n",
       "2010-01-05  30.625684  30.960   20.87  134.69  176.14  113.63  1136.52  19.35   \n",
       "2010-01-06  30.138541  30.770   20.80  132.25  174.26  113.71  1137.14  19.16   \n",
       "2010-01-07  30.082827  30.452   20.60  130.00  177.67  114.19  1141.69  19.06   \n",
       "2010-01-08  30.282827  30.660   20.83  133.52  174.31  114.57  1144.98  18.13   \n",
       "\n",
       "              EUR=     XAU=    GDX     GLD  \n",
       "Date                                        \n",
       "2010-01-04  1.4411  1120.00  47.71  109.80  \n",
       "2010-01-05  1.4368  1118.65  48.17  109.70  \n",
       "2010-01-06  1.4412  1138.50  49.34  111.51  \n",
       "2010-01-07  1.4318  1131.90  49.10  110.82  \n",
       "2010-01-08  1.4412  1136.10  49.84  111.37  "
      ]
     },
     "execution_count": 42,
     "metadata": {},
     "output_type": "execute_result"
    }
   ],
   "source": [
    "raw.head()"
   ]
  },
  {
   "cell_type": "code",
   "execution_count": 47,
   "metadata": {},
   "outputs": [],
   "source": [
    "data = raw[symbols]"
   ]
  },
  {
   "cell_type": "code",
   "execution_count": 46,
   "metadata": {},
   "outputs": [],
   "source": [
    "symbols = ['SPY', 'GLD', 'AAPL.O', 'MSFT.O']"
   ]
  },
  {
   "cell_type": "code",
   "execution_count": 48,
   "metadata": {},
   "outputs": [],
   "source": [
    "data = data.dropna()"
   ]
  },
  {
   "cell_type": "code",
   "execution_count": 49,
   "metadata": {},
   "outputs": [
    {
     "data": {
      "text/html": [
       "<div>\n",
       "<style scoped>\n",
       "    .dataframe tbody tr th:only-of-type {\n",
       "        vertical-align: middle;\n",
       "    }\n",
       "\n",
       "    .dataframe tbody tr th {\n",
       "        vertical-align: top;\n",
       "    }\n",
       "\n",
       "    .dataframe thead th {\n",
       "        text-align: right;\n",
       "    }\n",
       "</style>\n",
       "<table border=\"1\" class=\"dataframe\">\n",
       "  <thead>\n",
       "    <tr style=\"text-align: right;\">\n",
       "      <th></th>\n",
       "      <th>SPY</th>\n",
       "      <th>GLD</th>\n",
       "      <th>AAPL.O</th>\n",
       "      <th>MSFT.O</th>\n",
       "    </tr>\n",
       "    <tr>\n",
       "      <th>Date</th>\n",
       "      <th></th>\n",
       "      <th></th>\n",
       "      <th></th>\n",
       "      <th></th>\n",
       "    </tr>\n",
       "  </thead>\n",
       "  <tbody>\n",
       "    <tr>\n",
       "      <th>2010-01-04</th>\n",
       "      <td>113.33</td>\n",
       "      <td>109.80</td>\n",
       "      <td>30.572827</td>\n",
       "      <td>30.950</td>\n",
       "    </tr>\n",
       "    <tr>\n",
       "      <th>2010-01-05</th>\n",
       "      <td>113.63</td>\n",
       "      <td>109.70</td>\n",
       "      <td>30.625684</td>\n",
       "      <td>30.960</td>\n",
       "    </tr>\n",
       "    <tr>\n",
       "      <th>2010-01-06</th>\n",
       "      <td>113.71</td>\n",
       "      <td>111.51</td>\n",
       "      <td>30.138541</td>\n",
       "      <td>30.770</td>\n",
       "    </tr>\n",
       "    <tr>\n",
       "      <th>2010-01-07</th>\n",
       "      <td>114.19</td>\n",
       "      <td>110.82</td>\n",
       "      <td>30.082827</td>\n",
       "      <td>30.452</td>\n",
       "    </tr>\n",
       "    <tr>\n",
       "      <th>2010-01-08</th>\n",
       "      <td>114.57</td>\n",
       "      <td>111.37</td>\n",
       "      <td>30.282827</td>\n",
       "      <td>30.660</td>\n",
       "    </tr>\n",
       "  </tbody>\n",
       "</table>\n",
       "</div>"
      ],
      "text/plain": [
       "               SPY     GLD     AAPL.O  MSFT.O\n",
       "Date                                         \n",
       "2010-01-04  113.33  109.80  30.572827  30.950\n",
       "2010-01-05  113.63  109.70  30.625684  30.960\n",
       "2010-01-06  113.71  111.51  30.138541  30.770\n",
       "2010-01-07  114.19  110.82  30.082827  30.452\n",
       "2010-01-08  114.57  111.37  30.282827  30.660"
      ]
     },
     "execution_count": 49,
     "metadata": {},
     "output_type": "execute_result"
    }
   ],
   "source": [
    "data.head()"
   ]
  },
  {
   "cell_type": "code",
   "execution_count": 50,
   "metadata": {},
   "outputs": [
    {
     "data": {
      "text/plain": [
       "<matplotlib.axes._subplots.AxesSubplot at 0x14d88a0de48>"
      ]
     },
     "execution_count": 50,
     "metadata": {},
     "output_type": "execute_result"
    },
    {
     "data": {
      "image/png": "[encoded data removed]",
      "text/plain": [
       "<Figure size 720x432 with 1 Axes>"
      ]
     },
     "metadata": {
      "needs_background": "light"
     },
     "output_type": "display_data"
    }
   ],
   "source": [
    "(data/ data.iloc[0] * 100).plot(figsize=(10,6))"
   ]
  },
  {
   "cell_type": "code",
   "execution_count": 51,
   "metadata": {},
   "outputs": [],
   "source": [
    "log_returns = np.log(data / data.shift(1))"
   ]
  },
  {
   "cell_type": "code",
   "execution_count": 52,
   "metadata": {},
   "outputs": [
    {
     "data": {
      "text/plain": [
       "array([[<matplotlib.axes._subplots.AxesSubplot object at 0x0000014D88C5EEF0>,\n",
       "        <matplotlib.axes._subplots.AxesSubplot object at 0x0000014D88B0FA90>],\n",
       "       [<matplotlib.axes._subplots.AxesSubplot object at 0x0000014D88B41F98>,\n",
       "        <matplotlib.axes._subplots.AxesSubplot object at 0x0000014D88B7D588>]],\n",
       "      dtype=object)"
      ]
     },
     "execution_count": 52,
     "metadata": {},
     "output_type": "execute_result"
    },
    {
     "data": {
      "image/png": "[encoded data removed]",
      "text/plain": [
       "<Figure size 720x576 with 4 Axes>"
      ]
     },
     "metadata": {
      "needs_background": "light"
     },
     "output_type": "display_data"
    }
   ],
   "source": [
    "log_returns.hist(bins=50, figsize=(10,8))"
   ]
  },
  {
   "cell_type": "code",
   "execution_count": 53,
   "metadata": {},
   "outputs": [],
   "source": [
    "noa = len(symbols)"
   ]
  },
  {
   "cell_type": "code",
   "execution_count": 54,
   "metadata": {},
   "outputs": [],
   "source": [
    "data = raw[symbols]"
   ]
  },
  {
   "cell_type": "code",
   "execution_count": 55,
   "metadata": {},
   "outputs": [],
   "source": [
    "rets = np.log(data / data.shift(1))"
   ]
  },
  {
   "cell_type": "code",
   "execution_count": 56,
   "metadata": {},
   "outputs": [
    {
     "data": {
      "text/plain": [
       "array([[<matplotlib.axes._subplots.AxesSubplot object at 0x0000014D8906C780>,\n",
       "        <matplotlib.axes._subplots.AxesSubplot object at 0x0000014D890B81D0>],\n",
       "       [<matplotlib.axes._subplots.AxesSubplot object at 0x0000014D890E1710>,\n",
       "        <matplotlib.axes._subplots.AxesSubplot object at 0x0000014D88E71C88>]],\n",
       "      dtype=object)"
      ]
     },
     "execution_count": 56,
     "metadata": {},
     "output_type": "execute_result"
    },
    {
     "data": {
      "image/png": "[encoded data removed]",
      "text/plain": [
       "<Figure size 720x576 with 4 Axes>"
      ]
     },
     "metadata": {
      "needs_background": "light"
     },
     "output_type": "display_data"
    }
   ],
   "source": [
    "rets.hist(bins=40, figsize=(10,8))"
   ]
  },
  {
   "cell_type": "code",
   "execution_count": 57,
   "metadata": {},
   "outputs": [
    {
     "data": {
      "text/plain": [
       "SPY       0.102928\n",
       "GLD       0.009141\n",
       "AAPL.O    0.212359\n",
       "MSFT.O    0.136648\n",
       "dtype: float64"
      ]
     },
     "execution_count": 57,
     "metadata": {},
     "output_type": "execute_result"
    }
   ],
   "source": [
    "rets.mean() * 252"
   ]
  },
  {
   "cell_type": "code",
   "execution_count": 58,
   "metadata": {},
   "outputs": [
    {
     "data": {
      "text/html": [
       "<div>\n",
       "<style scoped>\n",
       "    .dataframe tbody tr th:only-of-type {\n",
       "        vertical-align: middle;\n",
       "    }\n",
       "\n",
       "    .dataframe tbody tr th {\n",
       "        vertical-align: top;\n",
       "    }\n",
       "\n",
       "    .dataframe thead th {\n",
       "        text-align: right;\n",
       "    }\n",
       "</style>\n",
       "<table border=\"1\" class=\"dataframe\">\n",
       "  <thead>\n",
       "    <tr style=\"text-align: right;\">\n",
       "      <th></th>\n",
       "      <th>SPY</th>\n",
       "      <th>GLD</th>\n",
       "      <th>AAPL.O</th>\n",
       "      <th>MSFT.O</th>\n",
       "    </tr>\n",
       "  </thead>\n",
       "  <tbody>\n",
       "    <tr>\n",
       "      <th>SPY</th>\n",
       "      <td>0.021939</td>\n",
       "      <td>0.000062</td>\n",
       "      <td>0.021039</td>\n",
       "      <td>0.022244</td>\n",
       "    </tr>\n",
       "    <tr>\n",
       "      <th>GLD</th>\n",
       "      <td>0.000062</td>\n",
       "      <td>0.026209</td>\n",
       "      <td>0.001513</td>\n",
       "      <td>-0.000347</td>\n",
       "    </tr>\n",
       "    <tr>\n",
       "      <th>AAPL.O</th>\n",
       "      <td>0.021039</td>\n",
       "      <td>0.001513</td>\n",
       "      <td>0.063773</td>\n",
       "      <td>0.023427</td>\n",
       "    </tr>\n",
       "    <tr>\n",
       "      <th>MSFT.O</th>\n",
       "      <td>0.022244</td>\n",
       "      <td>-0.000347</td>\n",
       "      <td>0.023427</td>\n",
       "      <td>0.050917</td>\n",
       "    </tr>\n",
       "  </tbody>\n",
       "</table>\n",
       "</div>"
      ],
      "text/plain": [
       "             SPY       GLD    AAPL.O    MSFT.O\n",
       "SPY     0.021939  0.000062  0.021039  0.022244\n",
       "GLD     0.000062  0.026209  0.001513 -0.000347\n",
       "AAPL.O  0.021039  0.001513  0.063773  0.023427\n",
       "MSFT.O  0.022244 -0.000347  0.023427  0.050917"
      ]
     },
     "execution_count": 58,
     "metadata": {},
     "output_type": "execute_result"
    }
   ],
   "source": [
    "rets.cov() * 252"
   ]
  },
  {
   "cell_type": "code",
   "execution_count": 59,
   "metadata": {},
   "outputs": [],
   "source": [
    "# General formula for expected portfolio return\n",
    "def ev_portfolio_return(rets, weights):\n",
    "    return np.sum(rets.mean() * weights) * 252"
   ]
  },
  {
   "cell_type": "code",
   "execution_count": 60,
   "metadata": {},
   "outputs": [],
   "source": [
    "weights = np.random.random(noa)"
   ]
  },
  {
   "cell_type": "code",
   "execution_count": 61,
   "metadata": {},
   "outputs": [],
   "source": [
    "weights /= np.sum(weights)"
   ]
  },
  {
   "cell_type": "code",
   "execution_count": 62,
   "metadata": {},
   "outputs": [
    {
     "data": {
      "text/plain": [
       "1.0"
      ]
     },
     "execution_count": 62,
     "metadata": {},
     "output_type": "execute_result"
    }
   ],
   "source": [
    "weights.sum()"
   ]
  },
  {
   "cell_type": "code",
   "execution_count": 63,
   "metadata": {},
   "outputs": [
    {
     "data": {
      "text/plain": [
       "0.17436363391255663"
      ]
     },
     "execution_count": 63,
     "metadata": {},
     "output_type": "execute_result"
    }
   ],
   "source": [
    "ev_portfolio_return(rets, weights)"
   ]
  },
  {
   "cell_type": "code",
   "execution_count": null,
   "metadata": {},
   "outputs": [],
   "source": []
  },
  {
   "cell_type": "code",
   "execution_count": null,
   "metadata": {},
   "outputs": [],
   "source": []
  },
  {
   "cell_type": "code",
   "execution_count": null,
   "metadata": {},
   "outputs": [],
   "source": []
  },
  {
   "cell_type": "code",
   "execution_count": null,
   "metadata": {},
   "outputs": [],
   "source": []
  },
  {
   "cell_type": "code",
   "execution_count": null,
   "metadata": {},
   "outputs": [],
   "source": []
  },
  {
   "cell_type": "code",
   "execution_count": null,
   "metadata": {},
   "outputs": [],
   "source": []
  },
  {
   "cell_type": "code",
   "execution_count": null,
   "metadata": {},
   "outputs": [],
   "source": []
  },
  {
   "cell_type": "code",
   "execution_count": null,
   "metadata": {},
   "outputs": [],
   "source": []
  },
  {
   "cell_type": "code",
   "execution_count": null,
   "metadata": {},
   "outputs": [],
   "source": []
  },
  {
   "cell_type": "code",
   "execution_count": null,
   "metadata": {},
   "outputs": [],
   "source": []
  },
  {
   "cell_type": "code",
   "execution_count": null,
   "metadata": {},
   "outputs": [],
   "source": []
  },
  {
   "cell_type": "code",
   "execution_count": null,
   "metadata": {},
   "outputs": [],
   "source": []
  },
  {
   "cell_type": "code",
   "execution_count": null,
   "metadata": {},
   "outputs": [],
   "source": []
  },
  {
   "cell_type": "code",
   "execution_count": null,
   "metadata": {},
   "outputs": [],
   "source": []
  },
  {
   "cell_type": "code",
   "execution_count": null,
   "metadata": {},
   "outputs": [],
   "source": []
  }
 ],
 "metadata": {
  "kernelspec": {
   "display_name": "Python 3",
   "language": "python",
   "name": "python3"
  },
  "language_info": {
   "codemirror_mode": {
    "name": "ipython",
    "version": 3
   },
   "file_extension": ".py",
   "mimetype": "text/x-python",
   "name": "python",
   "nbconvert_exporter": "python",
   "pygments_lexer": "ipython3",
   "version": "3.7.3"
  }
 },
 "nbformat": 4,
 "nbformat_minor": 2
}
